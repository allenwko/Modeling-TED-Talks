{
 "cells": [
  {
   "cell_type": "markdown",
   "metadata": {},
   "source": [
    "## Using BeautifulSoup to scrape information for all TED talks on 8/16/2016\n",
    "\n",
    "Time to scrape 63 pages of TED talks (all listed all of 8/16/2016).\n",
    "Also storing all data in MongoDB.\n",
    "\n",
    "The process overview:\n",
    "1. Starting from the list of all TED talks, we will scrape the __date__, __name__, __event__, __URL__, and duration of every talk\n",
    "2. With the URLs from part 1, we will scrape the __transcript__, __ratings__, and __views__ for each talk"
   ]
  },
  {
   "cell_type": "markdown",
   "metadata": {},
   "source": [
    "Import _all_ the modules!\n",
    "Also a small helper function."
   ]
  },
  {
   "cell_type": "code",
   "execution_count": 1,
   "metadata": {
    "collapsed": false
   },
   "outputs": [],
   "source": [
    "import pandas as pd\n",
    "import numpy as np\n",
    "import matplotlib.pyplot as plt\n",
    "from bs4 import BeautifulSoup\n",
    "import requests\n",
    "import time\n",
    "import random\n",
    "import datetime\n",
    "import dateutil.parser\n",
    "import re\n",
    "from pymongo import MongoClient\n",
    "\n",
    "def to_date(datestring):\n",
    "    '''Parse datestrings into datetime obejects'''\n",
    "    date = dateutil.parser.parse(datestring)\n",
    "    return date\n",
    "\n",
    "def get_soup(url, headers):\n",
    "    '''Given a url and headers, return a beautiful soup object with all the html on the page'''\n",
    "    response = requests.get(url, headers)\n",
    "    page = response.text\n",
    "    soup = BeautifulSoup(page)\n",
    "    delay = random.random()*0.5+0.5 #put in a randomized delay so the TED website doesn't block me\n",
    "    time.sleep(delay)\n",
    "    return soup\n",
    "\n",
    "%matplotlib inline"
   ]
  },
  {
   "cell_type": "markdown",
   "metadata": {},
   "source": [
    "Initialize connection to local MongoDB"
   ]
  },
  {
   "cell_type": "code",
   "execution_count": 3,
   "metadata": {
    "collapsed": true
   },
   "outputs": [],
   "source": [
    "client = MongoClient()\n",
    "ted_db = client.ted_db\n",
    "ted_names = ted_db.ted_names"
   ]
  },
  {
   "cell_type": "markdown",
   "metadata": {},
   "source": [
    "Set scraping agent"
   ]
  },
  {
   "cell_type": "code",
   "execution_count": 2,
   "metadata": {
    "collapsed": true
   },
   "outputs": [],
   "source": [
    "headers = {'User-Agent': 'Mozilla/5.0 (Macintosh; Intel Mac OS X 10_10_5) AppleWebKit/537.36 (KHTML, like Gecko) Chrome/52.0.2743.116 Safari/537.36'}\n",
    "ted_url = 'https://www.ted.com/talks/quick-list?page='"
   ]
  },
  {
   "cell_type": "markdown",
   "metadata": {},
   "source": [
    "For page 1 - 63, scrape name, duration, event, and URL. Store it as a list of dictionaries. Convert to Pandas for ease of use, and store in MongoDB."
   ]
  },
  {
   "cell_type": "code",
   "execution_count": 224,
   "metadata": {
    "collapsed": false
   },
   "outputs": [
    {
     "name": "stdout",
     "output_type": "stream",
     "text": [
      "Working on row 63 out of 63... 2213\n"
     ]
    }
   ],
   "source": [
    "talk_data = []\n",
    "time_limit = pd.to_timedelta('30 min') # set timelimit for talk\n",
    "\n",
    "for i in range(1,64): #63 pages of ted talks \n",
    "    print '\\rWorking on row %d out of 63...' % i,len(talk_data),\n",
    "    url = ted_url + str(i)\n",
    "    soup = get_soup(url, headers)\n",
    "    table_rows = soup.findAll(\"div\", { \"class\" : \"col xs-12 quick-list__container-row\" })\n",
    "    for row in table_rows:\n",
    "        talk = {}\n",
    "\n",
    "        date_html = row.findAll(\"div\", { \"class\" : \"col-xs-1\"})[0]\n",
    "        date_string = date_html.getText().strip()\n",
    "        talk['date'] = date_string\n",
    "\n",
    "        dur_html = row.findAll(\"div\", { \"class\" : \"col-xs-1\"})[1] #storing this way for later conversion to pd.Timedelta\n",
    "        dur_string = dur_html.getText().strip()\n",
    "        try:\n",
    "            dur = pd.to_timedelta(dur_string) \n",
    "        except:    \n",
    "            dur_string = \"00:\" + dur_string\n",
    "            dur = pd.to_timedelta(dur_string)\n",
    "        talk['duration'] = dur_string\n",
    "        \n",
    "        event_html = row.find(\"div\", { \"class\" : \"col-xs-2 event\"})\n",
    "        event = event_html.getText().strip()\n",
    "        talk['event'] = event\n",
    "\n",
    "        title_html = row.find(\"div\", { \"class\" : \"col-xs-6 title\"})\n",
    "        title = title_html.getText().strip()\n",
    "        url = title_html.find(\"a\").attrs['href']\n",
    "        talk['title'] = title\n",
    "        talk['url'] = url\n",
    "        \n",
    "        if dur < time_limit:  #only include data if it's below the time limit\n",
    "            talk_data.append(talk)\n",
    "            prev_titles = ted_names.find({'title':title})\n",
    "            if prev_titles.count() == 0:\n",
    "                ted_names.insert_one(talk)"
   ]
  },
  {
   "cell_type": "markdown",
   "metadata": {},
   "source": [
    "Before scraping more, let's explore the data."
   ]
  },
  {
   "cell_type": "code",
   "execution_count": 225,
   "metadata": {
    "collapsed": false,
    "scrolled": false
   },
   "outputs": [
    {
     "data": {
      "text/plain": [
       "2243"
      ]
     },
     "execution_count": 225,
     "metadata": {},
     "output_type": "execute_result"
    }
   ],
   "source": [
    "df = pd.DataFrame(talk_data)\n",
    "df.duration = pd.to_timedelta(df.duration)\n",
    "df.date = pd.to_datetime(df.date)"
   ]
  },
  {
   "cell_type": "markdown",
   "metadata": {},
   "source": [
    "Histogram of TED talk durations\n",
    "\n",
    "Definitely bimodal, maybe 2 normal distributions at 5 and 20 minutes?"
   ]
  },
  {
   "cell_type": "code",
   "execution_count": 267,
   "metadata": {
    "collapsed": false,
    "scrolled": true
   },
   "outputs": [
    {
     "data": {
      "text/plain": [
       "<matplotlib.axes._subplots.AxesSubplot at 0x117463850>"
      ]
     },
     "execution_count": 267,
     "metadata": {},
     "output_type": "execute_result"
    },
    {
     "data": {
      "image/png": "[encoded data removed]",
      "text/plain": [
       "<matplotlib.figure.Figure at 0x11846ba90>"
      ]
     },
     "metadata": {},
     "output_type": "display_data"
    }
   ],
   "source": [
    "df.duration.astype('timedelta64[s]').hist(bins=40)"
   ]
  },
  {
   "cell_type": "markdown",
   "metadata": {},
   "source": [
    "### Let's move on to scraping individual talk information - ratings, transcript, and views"
   ]
  },
  {
   "cell_type": "code",
   "execution_count": 512,
   "metadata": {
    "collapsed": true
   },
   "outputs": [],
   "source": [
    "df.ratings = np.nan\n",
    "df.views = np.nan\n",
    "df.transcripts = np.nan"
   ]
  },
  {
   "cell_type": "code",
   "execution_count": 14,
   "metadata": {
    "collapsed": false
   },
   "outputs": [],
   "source": [
    "\"\"\" Rating information is pulled into the website via JSON/javascript. \n",
    " The script is pulled into Python and run, resulting in a list of dictionaries with the rating counts.\n",
    " I store a map of rating ID's to names in a seperate dictionary, and store the rating ID's and counts. \n",
    " \"\"\"\n",
    "inform = re.compile('Informative')\n",
    "start_time = time.time()\n",
    "\n",
    "for index, end_url in df.url.iteritems():\n",
    "    bad_urls = []\n",
    "    progress = float(index-1464)/len(df[1465:])*100\n",
    "    sofar = (time.time() - start_time)/60\n",
    "    remaining = (100 - progress) * sofar / (progress+.001)\n",
    "    print '\\rPercent done: %.2f%%, Time elapsed (min): %.2f, Remaining time (min): %.2f ' % (progress, sofar, remaining),\n",
    "    rating_counts = {}\n",
    "    rating_script = \"\"\n",
    "    base_url = \"https://www.ted.com\"    \n",
    "    url = base_url + end_url\n",
    "    soup = get_soup(url, headers)\n",
    "    \n",
    "    #get ratings\n",
    "    while len(soup(text = inform)) == 0: #sometimes we get an ad in place of the ratings.\n",
    "        soup = get_soup(url, headers)\n",
    "    script = soup(text = inform)[0]\n",
    "    start = script.find('ratings')+9\n",
    "    end = script.find('relatedTalks') - 2\n",
    "    rate_script = 'rating = ' + script[start:end]\n",
    "    exec rate_script\n",
    "    for rate in rating:\n",
    "        rating_counts[rate['id']] = rate['count']\n",
    "    df.loc[index, 'ratings'] = [rating_counts]   #assigning rating\n",
    "    \n",
    "    #get views\n",
    "    views_html = soup.find('span', {\"class\" : \"talk-sharing__value\"})\n",
    "    views = views_html.text.strip()\n",
    "    df.loc[index, 'views'] = int(views.replace(\",\", \"\")) #assigning views\n",
    "    \n",
    "    #get transcript and timings\n",
    "    trans_url = url + \"/transcript?language=en\"\n",
    "    soup = get_soup(trans_url, headers)\n",
    "\n",
    "    talk_html = soup.findAll('span',{'talk-transcript__fragment'} )\n",
    "    frag_list = []\n",
    "    for frag in talk_html:\n",
    "        time_dict = {}\n",
    "        text=frag.text.replace(\"\\n\", \" \")\n",
    "        tup = (text, int(frag.attrs['data-time']))\n",
    "        frag_list.append(tup)\n",
    "    if len(frag_list) != 0:\n",
    "        df.loc[index, 'transcripts'] = [frag_list]\n",
    "    else:\n",
    "        bad_urls.append(trans_url)"
   ]
  },
  {
   "cell_type": "code",
   "execution_count": 25,
   "metadata": {
    "collapsed": false
   },
   "outputs": [],
   "source": [
    "df.to_pickle('transcripts.df')"
   ]
  },
  {
   "cell_type": "markdown",
   "metadata": {},
   "source": [
    "## Insert data into MongoDB"
   ]
  },
  {
   "cell_type": "code",
   "execution_count": 24,
   "metadata": {
    "collapsed": false
   },
   "outputs": [
    {
     "name": "stderr",
     "output_type": "stream",
     "text": [
      "/Users/allenwko/anaconda2/lib/python2.7/site-packages/ipykernel/__main__.py:12: DeprecationWarning: update is deprecated. Use replace_one, update_one or update_many instead.\n"
     ]
    }
   ],
   "source": [
    "for ind in df.index:\n",
    "    tit = df.loc[ind, 'title']\n",
    "    views = df.loc[ind, 'views']\n",
    "    transcript = df.loc[ind, 'transcripts']\n",
    "    ratings = df.loc[ind, 'ratings'][0]\n",
    "    new_ratings = {}\n",
    "    for k, v in ratings.iteritems():\n",
    "        new_ratings[str(k)] = v\n",
    "    ratings = new_ratings\n",
    "    ted_names.update_one(\n",
    "    {'title': tit},\n",
    "    {'$set': {'views':views,'ratings':ratings, 'transcripts':transcript}}\n",
    "        )"
   ]
  },
  {
   "cell_type": "markdown",
   "metadata": {},
   "source": [
    "Scrape number of topics in TED talks"
   ]
  },
  {
   "cell_type": "code",
   "execution_count": null,
   "metadata": {
    "collapsed": true
   },
   "outputs": [],
   "source": [
    "url = 'https://www.ted.com/topics'\n",
    "soup = get_soup(url, headers)"
   ]
  },
  {
   "cell_type": "code",
   "execution_count": 13,
   "metadata": {
    "collapsed": false
   },
   "outputs": [
    {
     "data": {
      "text/plain": [
       "393"
      ]
     },
     "execution_count": 13,
     "metadata": {},
     "output_type": "execute_result"
    }
   ],
   "source": [
    "li = soup.findAll('li', {'class':'d:b'})\n",
    "# for i in li:\n",
    "#     print i.text.strip() #look at text, make sure they're all topics\n",
    "len(li)"
   ]
  },
  {
   "cell_type": "markdown",
   "metadata": {},
   "source": [
    "Looks like we got 393 topics to work with"
   ]
  },
  {
   "cell_type": "markdown",
   "metadata": {},
   "source": [
    "Storing how TED labels their ratings."
   ]
  },
  {
   "cell_type": "code",
   "execution_count": 359,
   "metadata": {
    "collapsed": false
   },
   "outputs": [
    {
     "data": {
      "text/plain": [
       "{1: 'Beautiful',\n",
       " 2: 'Confusing',\n",
       " 3: 'Courageous',\n",
       " 7: 'Funny',\n",
       " 8: 'Informative',\n",
       " 9: 'Ingenious',\n",
       " 10: 'Inspiring',\n",
       " 11: 'Longwinded',\n",
       " 21: 'Unconvincing',\n",
       " 22: 'Fascinating',\n",
       " 23: 'Jaw-dropping',\n",
       " 24: 'Persuasive',\n",
       " 25: 'OK',\n",
       " 26: 'Obnoxious'}"
      ]
     },
     "execution_count": 359,
     "metadata": {},
     "output_type": "execute_result"
    }
   ],
   "source": [
    "rating_dict = {1: 'Beautiful',\n",
    "                 2: 'Confusing',\n",
    "                 3: 'Courageous',\n",
    "                 7: 'Funny',\n",
    "                 8: 'Informative',\n",
    "                 9: 'Ingenious',\n",
    "                 10: 'Inspiring',\n",
    "                 11: 'Longwinded',\n",
    "                 21: 'Unconvincing',\n",
    "                 22: 'Fascinating',\n",
    "                 23: 'Jaw-dropping',\n",
    "                 24: 'Persuasive',\n",
    "                 25: 'OK',\n",
    "                 26: 'Obnoxious'}"
   ]
  }
 ],
 "metadata": {
  "kernelspec": {
   "display_name": "Python 2",
   "language": "python",
   "name": "python2"
  },
  "language_info": {
   "codemirror_mode": {
    "name": "ipython",
    "version": 2
   },
   "file_extension": ".py",
   "mimetype": "text/x-python",
   "name": "python",
   "nbconvert_exporter": "python",
   "pygments_lexer": "ipython2",
   "version": "2.7.12"
  }
 },
 "nbformat": 4,
 "nbformat_minor": 0
}
