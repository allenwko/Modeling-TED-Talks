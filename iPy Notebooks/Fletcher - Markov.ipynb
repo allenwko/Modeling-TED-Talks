{
 "cells": [
  {
   "cell_type": "code",
   "execution_count": 5,
   "metadata": {
    "collapsed": true
   },
   "outputs": [],
   "source": [
    "import pandas as pd\n",
    "import numpy as np\n",
    "import matplotlib.pyplot as plt\n",
    "import time\n",
    "import random\n",
    "import datetime as dt\n",
    "import dateutil.parser\n",
    "import re\n",
    "import markovify\n",
    "from collections import defaultdict\n",
    "\n",
    "%matplotlib inline"
   ]
  },
  {
   "cell_type": "code",
   "execution_count": 2,
   "metadata": {
    "collapsed": true
   },
   "outputs": [],
   "source": [
    "df = pd.read_pickle('all_transcripts.p')"
   ]
  },
  {
   "cell_type": "code",
   "execution_count": 3,
   "metadata": {
    "collapsed": false
   },
   "outputs": [],
   "source": [
    "ted_tss = df[df.boring == 0].transcripts"
   ]
  },
  {
   "cell_type": "code",
   "execution_count": 4,
   "metadata": {
    "collapsed": false
   },
   "outputs": [],
   "source": [
    "text = \"\"\n",
    "for i in ted_tss:\n",
    "    text += i"
   ]
  },
  {
   "cell_type": "code",
   "execution_count": null,
   "metadata": {
    "collapsed": true
   },
   "outputs": [],
   "source": [
    "text_model = {}\n",
    "paragraphs = defaultdict(list)"
   ]
  },
  {
   "cell_type": "code",
   "execution_count": null,
   "metadata": {
    "collapsed": true
   },
   "outputs": [],
   "source": [
    "i=4\n",
    "print '\\r%d' % i,\n",
    "text_model[i] = markovify.Text(text, state_size=i)\n",
    "print 'generating...'"
   ]
  },
  {
   "cell_type": "code",
   "execution_count": 30,
   "metadata": {
    "collapsed": false,
    "scrolled": true
   },
   "outputs": [
    {
     "name": "stdout",
     "output_type": "stream",
     "text": [
      "\r",
      "10 \r",
      "11 \r",
      "11 \r",
      "11 \r",
      "12 \r",
      "13 \r",
      "14 \r",
      "15 \r",
      "16 \r",
      "16 \r",
      "17 \r",
      "18 \r",
      "19"
     ]
    },
    {
     "data": {
      "text/plain": [
       "[u'Especially because, I suspect, some of you may still be a little bit difficult to put into play in the United States.',\n",
       " u'But they still feel the need, they need to take permission from this guardian, whether verbal or written, all their lives.',\n",
       " u'Well I believe that in the same way that men do.',\n",
       " u\"Somebody said this a couple of times and looked at this problem and think that it's going to work or not.\",\n",
       " u\"And in fact, we need a big breakthrough here, something that's going to destroy civilization, I need to figure out how we can answer them.\",\n",
       " u\"Let's go there and make a map of my city, New York City, showing inundation in red.\",\n",
       " u'There are models for sustainable forestry that allow us to reach that large, largest number of neurons in your brain.',\n",
       " u'Steve Lopez did a story on the plot level, then we look for a story on the plot level, then we look for a story on Tolstoy, by Sam Abell.',\n",
       " u'So that is how -- in case there are people here in the room might not lie concerning the whereabouts of your son or daughter, your mother or father.',\n",
       " u'And I put on a lot of genes.',\n",
       " u'Every January, we go to the polls and say that quality of life is the turtle because the turtle is an example of one of these journalists, they could have broken the pact.',\n",
       " u\"On researching this, I realized that it's not only a dream and a vision, it's a real airplane.\",\n",
       " u'With a criminal record and without a job, Christopher would be unable to grow enough food, or find enough food.',\n",
       " u\"Now, one or two euros, that isn't really a lot of us think that compassion drains us, but I promise you it was the right vaccine that would protect them against coyotes and other predators.\",\n",
       " u'It turned out that one of the most extraordinary things about life, is that it is a year of favor.',\n",
       " u\"And it's that mind-heart connection that I believe compels us to not just be about more, but be about better.\",\n",
       " u'It takes eight seconds to do this, and already -- I hope to get a little more expressive.',\n",
       " u'AT: Thank you.What if I could present you a story that drove me, that transformed my life.',\n",
       " u\"So then there's also my favorite example of this is that my friends aren't quite keen on the idea of me taxidermy-ing them.\",\n",
       " u\"The thought that came to mind is that it needs to be able to enable the connectivity that we're all trying to reach.\"]"
      ]
     },
     "execution_count": 30,
     "metadata": {},
     "output_type": "execute_result"
    },
    {
     "name": "stdout",
     "output_type": "stream",
     "text": [
      "\n"
     ]
    }
   ],
   "source": [
    "while len(paragraphs[i]) < 20:\n",
    "    sentence = text_model[i].make_sentence()\n",
    "    if sentence:\n",
    "        paragraphs[i].append(sentence)\n",
    "\n",
    "paragraphs[i]"
   ]
  },
  {
   "cell_type": "code",
   "execution_count": 40,
   "metadata": {
    "collapsed": false
   },
   "outputs": [
    {
     "data": {
      "text/plain": [
       "u\"Well I believe that in the same way that men do. Somebody said this a couple of times and looked at this problem and think that it's going to work or not. And in fact, we need a big breakthrough here, something that's going to destroy civilization, I need to figure out how we can answer them. Let's go there and make a map of my city, New York City, showing inundation in red. \""
      ]
     },
     "execution_count": 40,
     "metadata": {},
     "output_type": "execute_result"
    }
   ],
   "source": [
    "a = \"\"\n",
    "for i in paragraphs[4][2:6]:\n",
    "    a += i + \" \"\n",
    "\n",
    "a"
   ]
  },
  {
   "cell_type": "code",
   "execution_count": null,
   "metadata": {
    "collapsed": true
   },
   "outputs": [],
   "source": [
    "import markovify\n",
    "\n",
    "# Get raw text as string.\n",
    "with open(\"/path/to/my/corpus.txt\") as f:\n",
    "    text = f.read()\n",
    "\n",
    "# Build the model.\n",
    "text_model = markovify.Text(text)\n",
    "\n",
    "# Print five randomly-generated sentences\n",
    "for i in range(5):\n",
    "    print(text_model.make_sentence())\n",
    "\n",
    "# Print three randomly-generated sentences of no more than 140 characters\n",
    "for i in range(3):\n",
    "    print(text_model.make_short_sentence(140))\n",
    "    \n",
    "text_model = markovify.Text(text, state_size=3)\n"
   ]
  }
 ],
 "metadata": {
  "kernelspec": {
   "display_name": "Python 2",
   "language": "python",
   "name": "python2"
  },
  "language_info": {
   "codemirror_mode": {
    "name": "ipython",
    "version": 2
   },
   "file_extension": ".py",
   "mimetype": "text/x-python",
   "name": "python",
   "nbconvert_exporter": "python",
   "pygments_lexer": "ipython2",
   "version": "2.7.12"
  }
 },
 "nbformat": 4,
 "nbformat_minor": 0
}
